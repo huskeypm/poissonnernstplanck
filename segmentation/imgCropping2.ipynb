{
 "metadata": {
  "anaconda-cloud": {},
  "kernelspec": {
   "display_name": "Python [default]",
   "language": "python",
   "name": "python3"
  },
  "language_info": {
   "codemirror_mode": {
    "name": "ipython",
    "version": 3
   },
   "file_extension": ".py",
   "mimetype": "text/x-python",
   "name": "python",
   "nbconvert_exporter": "python",
   "pygments_lexer": "ipython3",
   "version": "3.5.2"
  },
  "name": "",
  "signature": "sha256:6e3fc3938989b6615456bd017b8c144e7d8589299f1c7f57b025ba055b876a5a"
 },
 "nbformat": 3,
 "nbformat_minor": 0,
 "worksheets": [
  {
   "cells": [
    {
     "cell_type": "code",
     "collapsed": false,
     "input": [
      "from PIL import Image\n",
      "import numpy as np\n",
      "import cv2\n",
      "import matplotlib.pyplot as plt\n",
      "import matplotlib.image as mpimg\n",
      "from array import array\n",
      "from scipy.misc import toimage"
     ],
     "language": "python",
     "metadata": {},
     "outputs": [],
     "prompt_number": 12
    },
    {
     "cell_type": "code",
     "collapsed": false,
     "input": [
      "pil_im = Image.open('tem.png')\n",
      "box = []\n",
      "region = []\n",
      "box.append([8,6,48,46])\n",
      "region_1=(pil_im.crop(box[0]))\n",
      "region_1.save('region_1.png')\n",
      "#region1.show()\n",
      "\n",
      "box.append([34,6,74,46])\n",
      "region_2=(pil_im.crop(box[1]))\n",
      "region_2.save('region_2.png')\n",
      "#region2.show()\n",
      "\n",
      "box.append([38+22,6,68+32,46])\n",
      "region_3=(pil_im.crop(box[2]))\n",
      "region_3.save('region_3.png')\n",
      "#region3.show()\n",
      "\n",
      "box.append([8,29,48,69])\n",
      "region_4=(pil_im.crop(box[3]))\n",
      "region_4.save('region_4.png')\n",
      "#region4.show()\n",
      "\n",
      "box.append([34,29,74,69])\n",
      "region_5=(pil_im.crop(box[4]))\n",
      "region_5.save('region_5.png')\n",
      "#region5.show()\n",
      "\n",
      "box.append([60,29,100,69])\n",
      "region_6=(pil_im.crop(box[5]))\n",
      "region_6.save('region_6.png')\n",
      "#region6.show()\n",
      "\n",
      "box.append([8,52,48,92])\n",
      "region_7=(pil_im.crop(box[6]))\n",
      "region_7.save('region_7.png')\n",
      "#region7.show()\n",
      "\n",
      "box.append([34,52,74,92])\n",
      "region_8=(pil_im.crop(box[7]))\n",
      "region_8.save('region_8.png')\n",
      "#region8.show()\n",
      "\n",
      "box.append([60,52,100,92])\n",
      "region_9=(pil_im.crop(box[8]))\n",
      "region_9.save('region_9.png')\n",
      "#region9.show()"
     ],
     "language": "python",
     "metadata": {},
     "outputs": [],
     "prompt_number": 13
    },
    {
     "cell_type": "code",
     "collapsed": false,
     "input": [
      "im = np.array(Image.open(\"region_2.png\")) # open one image to get size\n",
      "immatters = im[:,:,0]+im[:,:,0]\n",
      "#ni = immatters[:,0]\n",
      "#print(im)\n",
      "#print(immatters)\n",
      "#averageim = []\n",
      "#print(np.shape(im))\n",
      "#c = np.add(a, b, dtype=np.uint32)\n",
      "numIms = 9\n",
      "for i in range(numIms):\n",
      "    if i==0:\n",
      "        averageim = np.array(Image.open(\"region_1.png\"))\n",
      "        #avgIM = im[:,:,0]\n",
      "    else:    \n",
      "        count = i+1\n",
      "        sngs = str(count)\n",
      "        a= np.array(Image.open('region_%s.png'%sngs))\n",
      "        \n",
      "        #print(i)\n",
      "        averageim=np.add(averageim,a, dtype=np.uint32)\n",
      "       \n",
      "        #print(averageim)\n",
      "        if i ==(numIms-1):\n",
      "            #print(np.shape(averageim))\n",
      "            trueAvg = averageim/count\n",
      "            Average = np.floor(trueAvg)\n",
      "            #trueAvg.save('averageim.jpeg')\n",
      "            Average.astype(int)\n",
      "            #print(Average)\n",
      "for i in range(len(Average[1,:,:])):\n",
      "   for j in range(len(Average[:,1,:])):\n",
      "   \n",
      "        \"\"\"if (i<10 and j>32) or (i>25 and j>33) or (i<11 and j<5) or (i>25 and j<5):\n",
      "            if i%4==3:    \n",
      "                Average[i,j,0]=Average[2,6,0]\n",
      "                Average[i,j,1]=Average[2,6,0]\n",
      "                Average[i,j,2]=Average[2,6,0]\n",
      "            elif i%4==1:    \n",
      "                Average[i,j,0]=Average[12,12,0]\n",
      "                Average[i,j,1]=Average[12,12,0]\n",
      "                Average[i,j,2]=Average[12,12,0]       \n",
      "  \n",
      "            elif i%4==2:    \n",
      "                Average[i,j,0]=Average[13,26,0]\n",
      "                Average[i,j,1]=Average[13,26,0]\n",
      "                Average[i,j,2]=Average[13,26,0] \n",
      "            else:\n",
      "                Average[i,j,0]=Average[25,12,0]\n",
      "                Average[i,j,1]=Average[25,12,0]\n",
      "                Average[i,j,2]=Average[25,12,0] \n",
      "        \"\"\"\n"
     ],
     "language": "python",
     "metadata": {
      "scrolled": true
     },
     "outputs": [],
     "prompt_number": 17
    },
    {
     "cell_type": "code",
     "collapsed": false,
     "input": [
      "from scipy.misc import toimage\n",
      "toimage(Average).save('averageTEMImage.png')\n",
      "toimage(Average).show()"
     ],
     "language": "python",
     "metadata": {},
     "outputs": [],
     "prompt_number": 15
    },
    {
     "cell_type": "raw",
     "metadata": {},
     "source": [
      "print Average[1,2,3]"
     ]
    },
    {
     "cell_type": "code",
     "collapsed": false,
     "input": [
      "print Average[1,2,3]"
     ],
     "language": "python",
     "metadata": {},
     "outputs": [
      {
       "output_type": "stream",
       "stream": "stdout",
       "text": [
        "255.0\n"
       ]
      }
     ],
     "prompt_number": 11
    },
    {
     "cell_type": "code",
     "collapsed": false,
     "input": [],
     "language": "python",
     "metadata": {},
     "outputs": [],
     "prompt_number": 58
    },
    {
     "cell_type": "code",
     "collapsed": false,
     "input": [],
     "language": "python",
     "metadata": {},
     "outputs": [],
     "prompt_number": 58
    },
    {
     "cell_type": "code",
     "collapsed": false,
     "input": [],
     "language": "python",
     "metadata": {},
     "outputs": []
    }
   ],
   "metadata": {}
  }
 ]
}